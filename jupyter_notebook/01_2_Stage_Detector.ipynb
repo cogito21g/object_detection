{
 "cells": [
  {
   "cell_type": "markdown",
   "id": "e21c1647",
   "metadata": {},
   "source": [
    "# 2-Stage Detector"
   ]
  },
  {
   "cell_type": "markdown",
   "id": "8b1a7818",
   "metadata": {},
   "source": [
    "### 특징\n",
    "1) Localization(후보 영역 찾기)\n",
    "2) Classification(후보 영역에 대한 분류)\n",
    "\n",
    "- Limitation: 속도가 느림"
   ]
  },
  {
   "cell_type": "markdown",
   "id": "e69bfe01",
   "metadata": {},
   "source": []
  },
  {
   "cell_type": "markdown",
   "id": "946caca8",
   "metadata": {},
   "source": []
  },
  {
   "cell_type": "markdown",
   "id": "f90fa612",
   "metadata": {},
   "source": []
  },
  {
   "cell_type": "markdown",
   "id": "a418a5e2",
   "metadata": {},
   "source": []
  },
  {
   "cell_type": "markdown",
   "id": "cad6df5b",
   "metadata": {},
   "source": []
  },
  {
   "cell_type": "markdown",
   "id": "b19bf7a3",
   "metadata": {},
   "source": []
  },
  {
   "cell_type": "markdown",
   "id": "aad3f4ac",
   "metadata": {},
   "source": []
  },
  {
   "cell_type": "markdown",
   "id": "f8343814",
   "metadata": {},
   "source": []
  }
 ],
 "metadata": {
  "kernelspec": {
   "display_name": "Python 3 (ipykernel)",
   "language": "python",
   "name": "python3"
  },
  "language_info": {
   "codemirror_mode": {
    "name": "ipython",
    "version": 3
   },
   "file_extension": ".py",
   "mimetype": "text/x-python",
   "name": "python",
   "nbconvert_exporter": "python",
   "pygments_lexer": "ipython3",
   "version": "3.9.17"
  }
 },
 "nbformat": 4,
 "nbformat_minor": 5
}

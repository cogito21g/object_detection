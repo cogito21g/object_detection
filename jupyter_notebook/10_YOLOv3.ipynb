{
 "cells": [
  {
   "cell_type": "markdown",
   "id": "64b7aa6c",
   "metadata": {},
   "source": [
    "# YOLOv3"
   ]
  },
  {
   "cell_type": "markdown",
   "id": "d1b062d9",
   "metadata": {},
   "source": [
    "##### 특징\n",
    "- Darknet-53\n",
    "  - Skip Connection 적용\n",
    "  - Max pooling 제거\n",
    "  - Convolution stride=2 사용\n",
    "  - ResNet-101, ResNet-152와 비슷한 성능, FPS 높음\n",
    "  - Multi-Scale Feature Map들을 사용(FPN과 유사): 서로 다른 3개의 scale을 사용(52x52, 26x26, 13x13), Feature pyramid network 사용(High-level의 fine-grained 정보와 Low-level의 Semantic 정보를 얻음)"
   ]
  },
  {
   "cell_type": "markdown",
   "id": "ffb9631d",
   "metadata": {},
   "source": []
  },
  {
   "cell_type": "markdown",
   "id": "40c994fa",
   "metadata": {},
   "source": []
  },
  {
   "cell_type": "markdown",
   "id": "9a261474",
   "metadata": {},
   "source": []
  }
 ],
 "metadata": {
  "kernelspec": {
   "display_name": "Python 3 (ipykernel)",
   "language": "python",
   "name": "python3"
  },
  "language_info": {
   "codemirror_mode": {
    "name": "ipython",
    "version": 3
   },
   "file_extension": ".py",
   "mimetype": "text/x-python",
   "name": "python",
   "nbconvert_exporter": "python",
   "pygments_lexer": "ipython3",
   "version": "3.9.17"
  }
 },
 "nbformat": 4,
 "nbformat_minor": 5
}
